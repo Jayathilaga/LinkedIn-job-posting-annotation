{
 "cells": [
  {
   "cell_type": "code",
   "execution_count": 1,
   "id": "88955921-7092-43a5-8605-c6e6de70e1b5",
   "metadata": {},
   "outputs": [],
   "source": [
    "# Importing Libraries\n",
    "from bs4 import BeautifulSoup\n",
    "import requests\n",
    "from nltk.tokenize import sent_tokenize\n",
    "import time\n",
    "import random\n",
    "import re\n",
    "import pandas as pd\n",
    "import bs4"
   ]
  },
  {
   "cell_type": "code",
   "execution_count": 2,
   "id": "b49e8477-2cae-489d-a6c2-4f2152e23f36",
   "metadata": {},
   "outputs": [],
   "source": [
    "def get_soup_object(url):\n",
    "    \"\"\"\n",
    "    Function to return the soup object for the input URL\n",
    "    Input: URL (string)\n",
    "    output: BeautifulSoup object\n",
    "    \"\"\"\n",
    "    page = requests.get(url, timeout=5)\n",
    "    soup = BeautifulSoup(page.content)\n",
    "    return soup\n",
    "\n",
    "\n",
    "def get_title(soup):\n",
    "    \"\"\"\n",
    "    Function to get the title of the job from the imput soup object\n",
    "    Input: BeautifulSoup object\n",
    "    output: Job Title (string)\n",
    "    \"\"\"\n",
    "    return soup.find('h1').text\n",
    "\n",
    "def get_job_desc(soup):\n",
    "    \"\"\"\n",
    "    Function to return the job description for a given soup object\n",
    "    Input: BeautifulSoup object\n",
    "    output: Job Title (list of strings)\n",
    "    \"\"\"\n",
    "    div = soup.find('div', {'class': 'show-more-less-html__markup'})\n",
    "    sentences = [i.strip() for i in sent_tokenize(text = div.text)]\n",
    "    return sentences\n",
    "\n",
    "def get_job_features(soup):\n",
    "    \"\"\"\n",
    "    Function to get some features related to the job\n",
    "    Input: BeautifulSoup object\n",
    "    output: features about job (dictionary)\n",
    "    \"\"\"\n",
    "    feat = soup.find('ul', {'class': \"description__job-criteria-list\"})\n",
    "    feats = [i.strip() for i in re.split(r'(\\n){2}', feat.text)]\n",
    "    feats = [i for i in feats if len(i)>5]\n",
    "    feat_dict = {}\n",
    "    for i in range(0,len(feats)-1,2):\n",
    "        feat_dict[feats[i]] = feats[i+1]\n",
    "    return feat_dict"
   ]
  },
  {
   "cell_type": "code",
   "execution_count": 3,
   "id": "b4ecc087-0b81-47fd-8987-133fcafd52bc",
   "metadata": {},
   "outputs": [
    {
     "data": {
      "text/plain": [
       "'<!DOCTYPE html>\\n<html lang=\"en\">\\n<head>\\n<meta content=\"d_jobs_guest_details\" name=\"pageKey\"/>\\n<!-- --> <meta content=\"en_US\" name=\"locale\"/>\\n<meta data-app-version=\"2.0.1256\" data-browser-id=\"0a3eb28b-766f-47bd-88fd-1660552ac141\" data-call-tree-id=\"AAX2C6x4Cn8A+bknqSaibQ==\" data-disable-jsbeacon-pagekey-suffix=\"false\" data-enable-page-view-heartbeat-tracking=\"\" data-member-id=\"0\" data-multiproduct-name=\"jobs-guest-frontend\" data-page-instance=\"urn:li:page:d_jobs_guest_details;/AJShBgtTbuJpLOw6azp8Q==\" data-service-name=\"jobs-guest-frontend\" id=\"config\"/>\\n<link href=\"https://ca.linkedin.com/jobs/view/data-consultant-at-assent-3508970129\" rel=\"canonical\"/>\\n<!-- --><!-- -->\\n<!-- -->\\n<!-- -->\\n<meta content=\"https://ca.linkedin.com/jobs/view/data-consultant-at-assent-3508970129\" property=\"al:android:url\"/>\\n<meta content=\"com.linkedin.android\" property=\"al:android:package\"/>\\n<meta content=\"LinkedIn\" property=\"al:android:app_name\"/>\\n<meta content=\"https://ca.linkedin.com/jobs/view/data-consul'"
      ]
     },
     "execution_count": 3,
     "metadata": {},
     "output_type": "execute_result"
    }
   ],
   "source": [
    "URL = \"https://ca.linkedin.com/jobs/view/data-consultant-at-assent-3508970129?refId=HcWTYp%2FyFLQIYu9mofA8sA%3D%3D&trackingId=AWRTSD3zoRSTqWy33f5kMA%3D%3D&trk=public_jobs_topcard-title\"\n",
    "soup = get_soup_object(URL)\n",
    "str(soup)[:1000]"
   ]
  },
  {
   "cell_type": "markdown",
   "id": "8051e07e-0473-42bd-a830-7a7880e34799",
   "metadata": {},
   "source": [
    "### Getting Title of Job Posting"
   ]
  },
  {
   "cell_type": "code",
   "execution_count": 4,
   "id": "d6bf524a-bae7-4c9e-a747-1bf7e66db4ad",
   "metadata": {},
   "outputs": [
    {
     "data": {
      "text/plain": [
       "'Data Consultant'"
      ]
     },
     "execution_count": 4,
     "metadata": {},
     "output_type": "execute_result"
    }
   ],
   "source": [
    "get_title(soup)"
   ]
  },
  {
   "cell_type": "markdown",
   "id": "ca23272b-4d47-4a9a-a515-a42f5aec8839",
   "metadata": {},
   "source": [
    "### Getting raw text from job description\n",
    "##### This is the document that we would annotate to get skills out of the job description."
   ]
  },
  {
   "cell_type": "code",
   "execution_count": 5,
   "id": "9e920e11-29b6-4660-aa48-1b29fd66a416",
   "metadata": {},
   "outputs": [
    {
     "data": {
      "text/plain": [
       "['Company DescriptionAssent is the supply chain sustainability management solution for the world’s most responsible, sustainability-focused complex manufacturers.',\n",
       " 'The #1 business risk for complex manufacturers is hidden.',\n",
       " 'Most supply chains were never built with sustainability in mind, and most manufacturers do not have deep visibility into their supply chain risks while outsourcing the majority of their production.',\n",
       " 'Shaped by regulatory experts, customers and suppliers, Assent is the foundation manufacturers need for cross-enterprise sustainability.',\n",
       " 'At Assent, your work will help bring transparency, sustainability, and fairness to the global community.We’re one of the fastest-growing technology companies - from $5 million to $50 million ARR in under five years!',\n",
       " \"As the global leader in supply chain sustainability management, we provide transparency into the supply chains of some of the world's largest and most successful companies, including 75 percent of Fortune 500 companies.\",\n",
       " 'In our most recent funding round, we raised $350 Million USD in funding led by Vista Equity Partners.',\n",
       " 'This funding will allow us to continue to scale with purpose, and add exceptional talent to our already remarkable team.',\n",
       " 'Assent is the first North American software company to achieve both B Corporation Certification and Advanced Status with United Nations Global Compact.',\n",
       " 'This reflects our deep commitment to embed sustainability not only across our organization, but as part of how we drive positive impacts for our communities and the customers we serve.Job DescriptionThe Data Consultant will have a wide range of duties; all of which are in the spirit of ensuring customer success through the successful execution of the client data and onboarding.',\n",
       " 'As part of Assent’s Data Consulting department, the Data Consultant will play an integral role in managing client data and decisions in the Assent Platform.Participate in Implementation kickoff to set data best practices and data workshop requirementsConduct data workshops;Transform, reform, and adapt client data to meet best practices;Conduct data consultation calls with account team members and clients;Hold a “book” of assigned accounts - be responsible for knowledge related to these accountsEnsure timely communication and responsiveness to external and internal stakeholdersCollaborate with other PS departments to continually improve and enhance processesSubmit tickets for assigned accounts;Communicate directly with clients regarding progress, status, timelines, and questions;Assist in Data Operations responsibilities when needed;Communicate, track, and present KPIs/metrics, issues, and status to stakeholders;Analyze, review, and report on client data using SQL data tools;Consult client on best data practicesQualifications3 years working experienceSolid SQL skills, ability to update/retrieve data independently;Experience in integrations and APIAdditional InformationAt Assent, we are uniquely positioned to make meaningful, impactful changes in the world around us.',\n",
       " 'If you believe in doing work that matters, we want you to join our team.Life at AssentWellness: We believe that you and your family’s well being is important.',\n",
       " 'As a result, we offer vacation time that increases with tenure, comprehensive benefits packages (details vary by country), life leave days and more.Financial Benefits: It’s not all about the money – well, it’s a little about the money.',\n",
       " 'We understand that financial health is important and we offer a competitive base salary, a corporate bonus program, retirement savings options and more.Life at Assent: There is purpose beyond your work.',\n",
       " 'We provide our team members with volunteer days, flexible work options and opportunities to get involved in corporate giving initiatives.Lifelong Learning: At Assent, curiosity is not only valued but encouraged.',\n",
       " 'You will receive professional development days that are available to you the day you start.Work The Way That Works for You: Your work and life should be balanced in a way that is purposeful for you.',\n",
       " 'We offer flexible working environments for our team.',\n",
       " 'Choose a space that meets your unique needs.At Assent, we are committed to growing and sustaining an environment where our team members feel included, valued, and heard.',\n",
       " 'Our diversity and equal opportunity practices are guided and championed by our Diversity and Inclusion Working Group and our Employee Resource Groups (ERGs).Our commitment to diversity, equity and inclusion includes recruiting and retaining team members from diverse backgrounds and experiences, and fostering a culture of belonging where all team members are included, treated with dignity and respect, promoted on their merits, and placed in positions to contribute to business success.If you require assistance or accommodation throughout any part of the interview and selection process, please contact talent@assent.com and we will be happy to help.']"
      ]
     },
     "execution_count": 5,
     "metadata": {},
     "output_type": "execute_result"
    }
   ],
   "source": [
    "get_job_desc(soup)"
   ]
  },
  {
   "cell_type": "markdown",
   "id": "eb0a3bd0-2215-4b1a-b176-ee63436b1844",
   "metadata": {},
   "source": [
    "### Getting raw features related to Job description\n",
    "##### These are just some extra features (not to be confused with annotation, we are manually annotating skills required for the job)"
   ]
  },
  {
   "cell_type": "code",
   "execution_count": 6,
   "id": "66d4b13b-23ff-4ff2-bf58-fdb086dc756c",
   "metadata": {},
   "outputs": [
    {
     "data": {
      "text/plain": [
       "{'Seniority level': 'Mid-Senior level',\n",
       " 'Employment type': 'Full-time',\n",
       " 'Job function': 'Consulting',\n",
       " 'Industries': 'Software Development'}"
      ]
     },
     "execution_count": 6,
     "metadata": {},
     "output_type": "execute_result"
    }
   ],
   "source": [
    "get_job_features(soup)"
   ]
  },
  {
   "cell_type": "markdown",
   "id": "c4cc9ca0-fe11-4f8f-b623-9039a43526cb",
   "metadata": {},
   "source": [
    "### Getting links for job profiles"
   ]
  },
  {
   "cell_type": "code",
   "execution_count": 7,
   "id": "0022ae50-71f1-4adb-a0f1-c12032f10112",
   "metadata": {},
   "outputs": [],
   "source": [
    "def get_job_url_list(soup):\n",
    "    \"\"\"\n",
    "    Function to get a list of job posting URLs for a given soup object (this soup object is for the LinkedIn job search page)\n",
    "    Input: BeautifulSoup object\n",
    "    output: list of urls (string)\n",
    "    \"\"\"\n",
    "    job_urls = []\n",
    "    # getting all anchor tags on a page\n",
    "    for anchor_tag in soup.find_all('a', href=True):\n",
    "        # job urls have a cetain format, so only filtering based on that\n",
    "        if \"linkedin.com/jobs/view/\" in anchor_tag['href']:\n",
    "            job_urls.append(anchor_tag['href'])\n",
    "    return job_urls\n",
    "\n",
    "def create_urls(searches, locations):\n",
    "    \"\"\"\n",
    "    Function to get a list of linkedin URLs web scraping\n",
    "    Input: seaches {the search that we make in the linkedin search box}\n",
    "           locations {all locations for which we want job posting data}\n",
    "    output: list of urls (string)\n",
    "    \"\"\"\n",
    "    urls = []\n",
    "    for search in searches:\n",
    "        keywords = '%20'.join(search.split())\n",
    "        for location in locations:\n",
    "            url = f'https://www.linkedin.com/jobs/search/?keywords={keywords}&location={location}'\n",
    "            urls.append(url)\n",
    "    return urls\n",
    "        "
   ]
  },
  {
   "cell_type": "markdown",
   "id": "cadf0268-5ab0-4dbd-9430-14f0086dd559",
   "metadata": {},
   "source": [
    "#### Define the search parameters for LinkedIn job search"
   ]
  },
  {
   "cell_type": "code",
   "execution_count": 16,
   "id": "b6cb19b4-5e40-4109-92e6-9453454bbd15",
   "metadata": {},
   "outputs": [
    {
     "data": {
      "text/plain": [
       "['https://www.linkedin.com/jobs/search/?keywords=data%20science&location=San%20Francisco',\n",
       " 'https://www.linkedin.com/jobs/search/?keywords=data%20science&location=Los%20Angeles',\n",
       " 'https://www.linkedin.com/jobs/search/?keywords=data%20science&location=San%20Jose',\n",
       " 'https://www.linkedin.com/jobs/search/?keywords=data%20science&location=San%20Diego',\n",
       " 'https://www.linkedin.com/jobs/search/?keywords=data%20science&location=New%20York',\n",
       " 'https://www.linkedin.com/jobs/search/?keywords=data%20science&location=Texas',\n",
       " 'https://www.linkedin.com/jobs/search/?keywords=data%20science&location=Arizona',\n",
       " 'https://www.linkedin.com/jobs/search/?keywords=data%20science&location=Canada',\n",
       " 'https://www.linkedin.com/jobs/search/?keywords=data%20science&location=Ireland',\n",
       " 'https://www.linkedin.com/jobs/search/?keywords=data%20science&location=England',\n",
       " 'https://www.linkedin.com/jobs/search/?keywords=machine%20learning&location=San%20Francisco',\n",
       " 'https://www.linkedin.com/jobs/search/?keywords=machine%20learning&location=Los%20Angeles',\n",
       " 'https://www.linkedin.com/jobs/search/?keywords=machine%20learning&location=San%20Jose',\n",
       " 'https://www.linkedin.com/jobs/search/?keywords=machine%20learning&location=San%20Diego',\n",
       " 'https://www.linkedin.com/jobs/search/?keywords=machine%20learning&location=New%20York',\n",
       " 'https://www.linkedin.com/jobs/search/?keywords=machine%20learning&location=Texas',\n",
       " 'https://www.linkedin.com/jobs/search/?keywords=machine%20learning&location=Arizona',\n",
       " 'https://www.linkedin.com/jobs/search/?keywords=machine%20learning&location=Canada',\n",
       " 'https://www.linkedin.com/jobs/search/?keywords=machine%20learning&location=Ireland',\n",
       " 'https://www.linkedin.com/jobs/search/?keywords=machine%20learning&location=England',\n",
       " 'https://www.linkedin.com/jobs/search/?keywords=NLP&location=San%20Francisco',\n",
       " 'https://www.linkedin.com/jobs/search/?keywords=NLP&location=Los%20Angeles',\n",
       " 'https://www.linkedin.com/jobs/search/?keywords=NLP&location=San%20Jose',\n",
       " 'https://www.linkedin.com/jobs/search/?keywords=NLP&location=San%20Diego',\n",
       " 'https://www.linkedin.com/jobs/search/?keywords=NLP&location=New%20York',\n",
       " 'https://www.linkedin.com/jobs/search/?keywords=NLP&location=Texas',\n",
       " 'https://www.linkedin.com/jobs/search/?keywords=NLP&location=Arizona',\n",
       " 'https://www.linkedin.com/jobs/search/?keywords=NLP&location=Canada',\n",
       " 'https://www.linkedin.com/jobs/search/?keywords=NLP&location=Ireland',\n",
       " 'https://www.linkedin.com/jobs/search/?keywords=NLP&location=England',\n",
       " 'https://www.linkedin.com/jobs/search/?keywords=software%20engineer&location=San%20Francisco',\n",
       " 'https://www.linkedin.com/jobs/search/?keywords=software%20engineer&location=Los%20Angeles',\n",
       " 'https://www.linkedin.com/jobs/search/?keywords=software%20engineer&location=San%20Jose',\n",
       " 'https://www.linkedin.com/jobs/search/?keywords=software%20engineer&location=San%20Diego',\n",
       " 'https://www.linkedin.com/jobs/search/?keywords=software%20engineer&location=New%20York',\n",
       " 'https://www.linkedin.com/jobs/search/?keywords=software%20engineer&location=Texas',\n",
       " 'https://www.linkedin.com/jobs/search/?keywords=software%20engineer&location=Arizona',\n",
       " 'https://www.linkedin.com/jobs/search/?keywords=software%20engineer&location=Canada',\n",
       " 'https://www.linkedin.com/jobs/search/?keywords=software%20engineer&location=Ireland',\n",
       " 'https://www.linkedin.com/jobs/search/?keywords=software%20engineer&location=England',\n",
       " 'https://www.linkedin.com/jobs/search/?keywords=database%20developer&location=San%20Francisco',\n",
       " 'https://www.linkedin.com/jobs/search/?keywords=database%20developer&location=Los%20Angeles',\n",
       " 'https://www.linkedin.com/jobs/search/?keywords=database%20developer&location=San%20Jose',\n",
       " 'https://www.linkedin.com/jobs/search/?keywords=database%20developer&location=San%20Diego',\n",
       " 'https://www.linkedin.com/jobs/search/?keywords=database%20developer&location=New%20York',\n",
       " 'https://www.linkedin.com/jobs/search/?keywords=database%20developer&location=Texas',\n",
       " 'https://www.linkedin.com/jobs/search/?keywords=database%20developer&location=Arizona',\n",
       " 'https://www.linkedin.com/jobs/search/?keywords=database%20developer&location=Canada',\n",
       " 'https://www.linkedin.com/jobs/search/?keywords=database%20developer&location=Ireland',\n",
       " 'https://www.linkedin.com/jobs/search/?keywords=database%20developer&location=England',\n",
       " 'https://www.linkedin.com/jobs/search/?keywords=full%20stack%20developer&location=San%20Francisco',\n",
       " 'https://www.linkedin.com/jobs/search/?keywords=full%20stack%20developer&location=Los%20Angeles',\n",
       " 'https://www.linkedin.com/jobs/search/?keywords=full%20stack%20developer&location=San%20Jose',\n",
       " 'https://www.linkedin.com/jobs/search/?keywords=full%20stack%20developer&location=San%20Diego',\n",
       " 'https://www.linkedin.com/jobs/search/?keywords=full%20stack%20developer&location=New%20York',\n",
       " 'https://www.linkedin.com/jobs/search/?keywords=full%20stack%20developer&location=Texas',\n",
       " 'https://www.linkedin.com/jobs/search/?keywords=full%20stack%20developer&location=Arizona',\n",
       " 'https://www.linkedin.com/jobs/search/?keywords=full%20stack%20developer&location=Canada',\n",
       " 'https://www.linkedin.com/jobs/search/?keywords=full%20stack%20developer&location=Ireland',\n",
       " 'https://www.linkedin.com/jobs/search/?keywords=full%20stack%20developer&location=England',\n",
       " 'https://www.linkedin.com/jobs/search/?keywords=cloud%20engineer&location=San%20Francisco',\n",
       " 'https://www.linkedin.com/jobs/search/?keywords=cloud%20engineer&location=Los%20Angeles',\n",
       " 'https://www.linkedin.com/jobs/search/?keywords=cloud%20engineer&location=San%20Jose',\n",
       " 'https://www.linkedin.com/jobs/search/?keywords=cloud%20engineer&location=San%20Diego',\n",
       " 'https://www.linkedin.com/jobs/search/?keywords=cloud%20engineer&location=New%20York',\n",
       " 'https://www.linkedin.com/jobs/search/?keywords=cloud%20engineer&location=Texas',\n",
       " 'https://www.linkedin.com/jobs/search/?keywords=cloud%20engineer&location=Arizona',\n",
       " 'https://www.linkedin.com/jobs/search/?keywords=cloud%20engineer&location=Canada',\n",
       " 'https://www.linkedin.com/jobs/search/?keywords=cloud%20engineer&location=Ireland',\n",
       " 'https://www.linkedin.com/jobs/search/?keywords=cloud%20engineer&location=England',\n",
       " 'https://www.linkedin.com/jobs/search/?keywords=web%20developer&location=San%20Francisco',\n",
       " 'https://www.linkedin.com/jobs/search/?keywords=web%20developer&location=Los%20Angeles',\n",
       " 'https://www.linkedin.com/jobs/search/?keywords=web%20developer&location=San%20Jose',\n",
       " 'https://www.linkedin.com/jobs/search/?keywords=web%20developer&location=San%20Diego',\n",
       " 'https://www.linkedin.com/jobs/search/?keywords=web%20developer&location=New%20York',\n",
       " 'https://www.linkedin.com/jobs/search/?keywords=web%20developer&location=Texas',\n",
       " 'https://www.linkedin.com/jobs/search/?keywords=web%20developer&location=Arizona',\n",
       " 'https://www.linkedin.com/jobs/search/?keywords=web%20developer&location=Canada',\n",
       " 'https://www.linkedin.com/jobs/search/?keywords=web%20developer&location=Ireland',\n",
       " 'https://www.linkedin.com/jobs/search/?keywords=web%20developer&location=England',\n",
       " 'https://www.linkedin.com/jobs/search/?keywords=cybersecurity&location=San%20Francisco',\n",
       " 'https://www.linkedin.com/jobs/search/?keywords=cybersecurity&location=Los%20Angeles',\n",
       " 'https://www.linkedin.com/jobs/search/?keywords=cybersecurity&location=San%20Jose',\n",
       " 'https://www.linkedin.com/jobs/search/?keywords=cybersecurity&location=San%20Diego',\n",
       " 'https://www.linkedin.com/jobs/search/?keywords=cybersecurity&location=New%20York',\n",
       " 'https://www.linkedin.com/jobs/search/?keywords=cybersecurity&location=Texas',\n",
       " 'https://www.linkedin.com/jobs/search/?keywords=cybersecurity&location=Arizona',\n",
       " 'https://www.linkedin.com/jobs/search/?keywords=cybersecurity&location=Canada',\n",
       " 'https://www.linkedin.com/jobs/search/?keywords=cybersecurity&location=Ireland',\n",
       " 'https://www.linkedin.com/jobs/search/?keywords=cybersecurity&location=England']"
      ]
     },
     "execution_count": 16,
     "metadata": {},
     "output_type": "execute_result"
    }
   ],
   "source": [
    "searches = ['data science', \n",
    "            'machine learning', \n",
    "            'NLP', \n",
    "            'software engineer', \n",
    "            'database developer', \n",
    "            'full stack developer', \n",
    "            'cloud engineer', \n",
    "            'web developer', \n",
    "            'cybersecurity']\n",
    "locations = ['San%20Francisco','Los%20Angeles','San%20Jose','San%20Diego','New%20York','Texas', 'Arizona', 'Canada', 'Ireland','England']\n",
    "linkedin_search_urls = create_urls(searches, locations)\n",
    "linkedin_search_urls"
   ]
  },
  {
   "cell_type": "markdown",
   "id": "4556aae4-c757-4775-9c66-3e0cd360cde6",
   "metadata": {},
   "source": [
    "#### We have created LinkedIn search URLs above, we would use these to get the URLs for individual job posts\n",
    "\n",
    "We normally get around 25 job posts for each URL"
   ]
  },
  {
   "cell_type": "code",
   "execution_count": 17,
   "id": "230bf9fd-e2fa-45a1-98e5-a3136bddeef3",
   "metadata": {},
   "outputs": [
    {
     "name": "stdout",
     "output_type": "stream",
     "text": [
      "We got 2249 job URLs\n",
      "CPU times: total: 14.2 s\n",
      "Wall time: 2min 52s\n"
     ]
    },
    {
     "data": {
      "text/plain": [
       "['https://www.linkedin.com/jobs/view/database-developer-at-cemco-llc-3508915401?refId=q15GbJidwNGYlwEguR8CJQ%3D%3D&trackingId=R62IFhP%2BofvLpERb0gLJXw%3D%3D&position=2&pageNum=0&trk=public_jobs_jserp-result_search-card',\n",
       " 'https://www.linkedin.com/jobs/view/software-engineer-i-full-time-united-states-at-cisco-3427893305?refId=HdP237pv%2BNZgcLApiKUemA%3D%3D&trackingId=%2Fzk5dKVtBjy5yufTTmvihw%3D%3D&position=17&pageNum=0&trk=public_jobs_jserp-result_search-card',\n",
       " 'https://www.linkedin.com/jobs/view/penetration-tester-network-cloud-application-usds-at-tiktok-3499521742?refId=B7ItTGeGAx1DGjYnwzGibA%3D%3D&trackingId=5%2F49%2FiUKpH06qQTCZyTzdQ%3D%3D&position=23&pageNum=0&trk=public_jobs_jserp-result_search-card']"
      ]
     },
     "execution_count": 17,
     "metadata": {},
     "output_type": "execute_result"
    }
   ],
   "source": [
    "%%time\n",
    "job_post_urls = set()\n",
    "for url in linkedin_search_urls:\n",
    "    soup = get_soup_object(url)\n",
    "    urls = get_job_url_list(soup)\n",
    "    job_post_urls.update(urls)\n",
    "    # sleep randomly for 1 to 2 sec\n",
    "    time.sleep(random.random()+random.random())\n",
    "print(f'We got {len(job_post_urls)} job URLs')\n",
    "[i for i in job_post_urls][:3]"
   ]
  },
  {
   "cell_type": "markdown",
   "id": "0c002cb3-78da-414b-8684-964d76d94103",
   "metadata": {},
   "source": [
    "### Let's get the actual job data for each job URL"
   ]
  },
  {
   "cell_type": "code",
   "execution_count": 18,
   "id": "1c5047cb-25cd-4d75-8e0c-52b61a8cd5ed",
   "metadata": {},
   "outputs": [
    {
     "name": "stdout",
     "output_type": "stream",
     "text": [
      "Failed for:\n",
      "https://www.linkedin.com/jobs/view/looking-for-google-cloud-data-engineer-cloud-engineer-san-diego-ca-full-time-at-extend-information-systems-inc-3494565712?refId=wNTeYfS1G7NlMJnr%2Fk%2BWwg%3D%3D&trackingId=6oBXPeMBRKkx7SBJp2yOzw%3D%3D&position=5&pageNum=0&trk=public_jobs_jserp-result_search-card\n",
      "Failed for:\n",
      "https://www.linkedin.com/jobs/view/front-end-developer-at-diverse-lynx-3480579558?refId=9QREhi1%2Fy0IWoKqeLW6LNg%3D%3D&trackingId=3yHaGLt5LUotgXEKiLqRMQ%3D%3D&position=21&pageNum=0&trk=public_jobs_jserp-result_search-card\n",
      "Failed for:\n",
      "https://www.linkedin.com/jobs/view/application-developer-c%23-fullstack-developer-at-sunsoft-online-3507435934?refId=Mc5mmprGEcMlIUYxD%2Fou8Q%3D%3D&trackingId=xRmiqLNpK6uBuE5v5%2Bp6OA%3D%3D&position=21&pageNum=0&trk=public_jobs_jserp-result_search-card\n",
      "CPU times: total: 5min 26s\n",
      "Wall time: 1h 14min 53s\n"
     ]
    }
   ],
   "source": [
    "%%time\n",
    "urls = []\n",
    "titles = []\n",
    "descriptions = []\n",
    "seniorities = []\n",
    "employment_types = []\n",
    "for url in job_post_urls:\n",
    "    try:\n",
    "        soup = get_soup_object(url)\n",
    "        job_title = get_title(soup)\n",
    "        job_description = get_job_desc(soup)\n",
    "        job_features = get_job_features(soup)\n",
    "        urls.append(url)\n",
    "        titles.append(job_title)\n",
    "        descriptions.append(job_description)\n",
    "        if 'Seniority level' in job_features:\n",
    "            seniorities.append(job_features['Seniority level'])\n",
    "        else:\n",
    "            seniorities.append(None)\n",
    "        if 'Employment type' in job_features:\n",
    "            employment_types.append(job_features['Employment type'])\n",
    "        else:\n",
    "            employment_types.append(None)\n",
    "    except:\n",
    "        print('Failed for:')\n",
    "        print(url)\n",
    "    # sleep randomly for 2 to 3 sec\n",
    "    time.sleep(random.random()+random.random()+random.random())"
   ]
  },
  {
   "cell_type": "code",
   "execution_count": 19,
   "id": "91d142b4-a2c5-4eeb-a2af-61f21e6d6998",
   "metadata": {},
   "outputs": [
    {
     "data": {
      "text/html": [
       "<div>\n",
       "<style scoped>\n",
       "    .dataframe tbody tr th:only-of-type {\n",
       "        vertical-align: middle;\n",
       "    }\n",
       "\n",
       "    .dataframe tbody tr th {\n",
       "        vertical-align: top;\n",
       "    }\n",
       "\n",
       "    .dataframe thead th {\n",
       "        text-align: right;\n",
       "    }\n",
       "</style>\n",
       "<table border=\"1\" class=\"dataframe\">\n",
       "  <thead>\n",
       "    <tr style=\"text-align: right;\">\n",
       "      <th></th>\n",
       "      <th>url</th>\n",
       "      <th>title</th>\n",
       "      <th>job_description</th>\n",
       "      <th>seniority_level</th>\n",
       "      <th>employment_type</th>\n",
       "    </tr>\n",
       "  </thead>\n",
       "  <tbody>\n",
       "    <tr>\n",
       "      <th>0</th>\n",
       "      <td>https://www.linkedin.com/jobs/view/database-de...</td>\n",
       "      <td>Database Developer</td>\n",
       "      <td>[SummaryThe Database Developer is part of the ...</td>\n",
       "      <td>Entry level</td>\n",
       "      <td>Full-time</td>\n",
       "    </tr>\n",
       "    <tr>\n",
       "      <th>1</th>\n",
       "      <td>https://www.linkedin.com/jobs/view/software-en...</td>\n",
       "      <td>Software Engineer I (Full Time) United States</td>\n",
       "      <td>[What You’ll DoOur software engineers are the ...</td>\n",
       "      <td>Not Applicable</td>\n",
       "      <td>Full-time</td>\n",
       "    </tr>\n",
       "    <tr>\n",
       "      <th>2</th>\n",
       "      <td>https://www.linkedin.com/jobs/view/penetration...</td>\n",
       "      <td>Penetration Tester (Network/Cloud/Application)...</td>\n",
       "      <td>[Responsibilities About TikTokTikTok is the le...</td>\n",
       "      <td>Not Applicable</td>\n",
       "      <td>Full-time</td>\n",
       "    </tr>\n",
       "    <tr>\n",
       "      <th>3</th>\n",
       "      <td>https://www.linkedin.com/jobs/view/sql-develop...</td>\n",
       "      <td>SQL Developer</td>\n",
       "      <td>[SQL Developer - Long Beach, CA - Infosys  Nee...</td>\n",
       "      <td>Entry level</td>\n",
       "      <td>Contract</td>\n",
       "    </tr>\n",
       "    <tr>\n",
       "      <th>4</th>\n",
       "      <td>https://ca.linkedin.com/jobs/view/cyber-securi...</td>\n",
       "      <td>Cyber Security Specialist</td>\n",
       "      <td>[As one of Canada’s largest and fastest growin...</td>\n",
       "      <td>Not Applicable</td>\n",
       "      <td>Full-time</td>\n",
       "    </tr>\n",
       "    <tr>\n",
       "      <th>...</th>\n",
       "      <td>...</td>\n",
       "      <td>...</td>\n",
       "      <td>...</td>\n",
       "      <td>...</td>\n",
       "      <td>...</td>\n",
       "    </tr>\n",
       "    <tr>\n",
       "      <th>2241</th>\n",
       "      <td>https://www.linkedin.com/jobs/view/sql-server-...</td>\n",
       "      <td>SQL Server Developer</td>\n",
       "      <td>[Job Description Job Title: SQL Server Develop...</td>\n",
       "      <td>Entry level</td>\n",
       "      <td>Contract</td>\n",
       "    </tr>\n",
       "    <tr>\n",
       "      <th>2242</th>\n",
       "      <td>https://www.linkedin.com/jobs/view/embedded-so...</td>\n",
       "      <td>Embedded Software Engineer</td>\n",
       "      <td>[Summary Apple's embedded firmware/software te...</td>\n",
       "      <td>Not Applicable</td>\n",
       "      <td>Full-time</td>\n",
       "    </tr>\n",
       "    <tr>\n",
       "      <th>2243</th>\n",
       "      <td>https://uk.linkedin.com/jobs/view/cloud-engine...</td>\n",
       "      <td>Cloud Engineer</td>\n",
       "      <td>[Great opportunity for a Cloud Engineer to joi...</td>\n",
       "      <td>Mid-Senior level</td>\n",
       "      <td>Full-time</td>\n",
       "    </tr>\n",
       "    <tr>\n",
       "      <th>2244</th>\n",
       "      <td>https://www.linkedin.com/jobs/view/cloud-engin...</td>\n",
       "      <td>Cloud Engineer</td>\n",
       "      <td>[Job DescriptionCloud EngineerSan Jose, CAW2 C...</td>\n",
       "      <td>Entry level</td>\n",
       "      <td>Contract</td>\n",
       "    </tr>\n",
       "    <tr>\n",
       "      <th>2245</th>\n",
       "      <td>https://www.linkedin.com/jobs/view/patent-pros...</td>\n",
       "      <td>Patent Prosecution Agent</td>\n",
       "      <td>[Practice Area: Patent Agents - Computer Scien...</td>\n",
       "      <td>Entry level</td>\n",
       "      <td>Full-time</td>\n",
       "    </tr>\n",
       "  </tbody>\n",
       "</table>\n",
       "<p>2246 rows × 5 columns</p>\n",
       "</div>"
      ],
      "text/plain": [
       "                                                    url  \\\n",
       "0     https://www.linkedin.com/jobs/view/database-de...   \n",
       "1     https://www.linkedin.com/jobs/view/software-en...   \n",
       "2     https://www.linkedin.com/jobs/view/penetration...   \n",
       "3     https://www.linkedin.com/jobs/view/sql-develop...   \n",
       "4     https://ca.linkedin.com/jobs/view/cyber-securi...   \n",
       "...                                                 ...   \n",
       "2241  https://www.linkedin.com/jobs/view/sql-server-...   \n",
       "2242  https://www.linkedin.com/jobs/view/embedded-so...   \n",
       "2243  https://uk.linkedin.com/jobs/view/cloud-engine...   \n",
       "2244  https://www.linkedin.com/jobs/view/cloud-engin...   \n",
       "2245  https://www.linkedin.com/jobs/view/patent-pros...   \n",
       "\n",
       "                                                  title  \\\n",
       "0                                    Database Developer   \n",
       "1         Software Engineer I (Full Time) United States   \n",
       "2     Penetration Tester (Network/Cloud/Application)...   \n",
       "3                                         SQL Developer   \n",
       "4                             Cyber Security Specialist   \n",
       "...                                                 ...   \n",
       "2241                               SQL Server Developer   \n",
       "2242                         Embedded Software Engineer   \n",
       "2243                                     Cloud Engineer   \n",
       "2244                                     Cloud Engineer   \n",
       "2245                           Patent Prosecution Agent   \n",
       "\n",
       "                                        job_description   seniority_level  \\\n",
       "0     [SummaryThe Database Developer is part of the ...       Entry level   \n",
       "1     [What You’ll DoOur software engineers are the ...    Not Applicable   \n",
       "2     [Responsibilities About TikTokTikTok is the le...    Not Applicable   \n",
       "3     [SQL Developer - Long Beach, CA - Infosys  Nee...       Entry level   \n",
       "4     [As one of Canada’s largest and fastest growin...    Not Applicable   \n",
       "...                                                 ...               ...   \n",
       "2241  [Job Description Job Title: SQL Server Develop...       Entry level   \n",
       "2242  [Summary Apple's embedded firmware/software te...    Not Applicable   \n",
       "2243  [Great opportunity for a Cloud Engineer to joi...  Mid-Senior level   \n",
       "2244  [Job DescriptionCloud EngineerSan Jose, CAW2 C...       Entry level   \n",
       "2245  [Practice Area: Patent Agents - Computer Scien...       Entry level   \n",
       "\n",
       "     employment_type  \n",
       "0          Full-time  \n",
       "1          Full-time  \n",
       "2          Full-time  \n",
       "3           Contract  \n",
       "4          Full-time  \n",
       "...              ...  \n",
       "2241        Contract  \n",
       "2242       Full-time  \n",
       "2243       Full-time  \n",
       "2244        Contract  \n",
       "2245       Full-time  \n",
       "\n",
       "[2246 rows x 5 columns]"
      ]
     },
     "execution_count": 19,
     "metadata": {},
     "output_type": "execute_result"
    }
   ],
   "source": [
    "df = pd.DataFrame({\n",
    "    'url': urls,\n",
    "    'title': titles,\n",
    "    'job_description': descriptions,\n",
    "    'seniority_level': seniorities,\n",
    "    'employment_type': employment_types\n",
    "})\n",
    "\n",
    "df"
   ]
  },
  {
   "cell_type": "code",
   "execution_count": 20,
   "id": "d32b9dfb-525b-4fff-8f27-f78143721a78",
   "metadata": {},
   "outputs": [
    {
     "data": {
      "text/plain": [
       "0       3508915401\n",
       "1       3427893305\n",
       "2       3499521742\n",
       "3       3349162441\n",
       "4       3505332417\n",
       "           ...    \n",
       "2241    3511024967\n",
       "2242    3306867444\n",
       "2243    3508268320\n",
       "2244    3511125113\n",
       "2245    3511377496\n",
       "Name: url, Length: 2246, dtype: object"
      ]
     },
     "execution_count": 20,
     "metadata": {},
     "output_type": "execute_result"
    }
   ],
   "source": [
    "def get_job_id(url):\n",
    "    ind = url.index('?')\n",
    "    url = url[:ind]\n",
    "    url = url[::-1]\n",
    "    url = url[:url.index('-')]\n",
    "    return url[::-1]\n",
    "    \n",
    "df['url'].apply(get_job_id)"
   ]
  },
  {
   "cell_type": "code",
   "execution_count": 21,
   "id": "84226853-6ff1-4a5c-8480-5d7b83dbc5c1",
   "metadata": {},
   "outputs": [],
   "source": [
    "df.to_csv('linkedin_data.csv', )"
   ]
  },
  {
   "cell_type": "code",
   "execution_count": 22,
   "id": "5ac17e77-7545-4c70-aef6-5bc0d19f4bc7",
   "metadata": {},
   "outputs": [
    {
     "data": {
      "text/plain": [
       "460.6099732858415"
      ]
     },
     "execution_count": 22,
     "metadata": {},
     "output_type": "execute_result"
    }
   ],
   "source": [
    "sum(df['job_description'].apply(lambda x: len(' '.join(x).split())).values)/len(df)"
   ]
  },
  {
   "cell_type": "code",
   "execution_count": 23,
   "id": "8bfc96d4-5e99-4670-9184-7add882a1ee8",
   "metadata": {},
   "outputs": [
    {
     "data": {
      "text/plain": [
       "1034530"
      ]
     },
     "execution_count": 23,
     "metadata": {},
     "output_type": "execute_result"
    }
   ],
   "source": [
    "sum(df['job_description'].apply(lambda x: len(' '.join(x).split())).values)"
   ]
  },
  {
   "cell_type": "code",
   "execution_count": 31,
   "id": "ae75ae18-ec73-4914-bff7-371b6e922fac",
   "metadata": {},
   "outputs": [
    {
     "data": {
      "text/html": [
       "<div>\n",
       "<style scoped>\n",
       "    .dataframe tbody tr th:only-of-type {\n",
       "        vertical-align: middle;\n",
       "    }\n",
       "\n",
       "    .dataframe tbody tr th {\n",
       "        vertical-align: top;\n",
       "    }\n",
       "\n",
       "    .dataframe thead th {\n",
       "        text-align: right;\n",
       "    }\n",
       "</style>\n",
       "<table border=\"1\" class=\"dataframe\">\n",
       "  <thead>\n",
       "    <tr style=\"text-align: right;\">\n",
       "      <th></th>\n",
       "      <th>url</th>\n",
       "      <th>title</th>\n",
       "      <th>job_description</th>\n",
       "      <th>seniority_level</th>\n",
       "      <th>employment_type</th>\n",
       "    </tr>\n",
       "  </thead>\n",
       "  <tbody>\n",
       "    <tr>\n",
       "      <th>0</th>\n",
       "      <td>https://www.linkedin.com/jobs/view/database-de...</td>\n",
       "      <td>Database Developer</td>\n",
       "      <td>[SummaryThe Database Developer is part of the ...</td>\n",
       "      <td>Entry level</td>\n",
       "      <td>Full-time</td>\n",
       "    </tr>\n",
       "    <tr>\n",
       "      <th>1</th>\n",
       "      <td>https://www.linkedin.com/jobs/view/software-en...</td>\n",
       "      <td>Software Engineer I (Full Time) United States</td>\n",
       "      <td>[What You’ll DoOur software engineers are the ...</td>\n",
       "      <td>Not Applicable</td>\n",
       "      <td>Full-time</td>\n",
       "    </tr>\n",
       "    <tr>\n",
       "      <th>2</th>\n",
       "      <td>https://www.linkedin.com/jobs/view/penetration...</td>\n",
       "      <td>Penetration Tester (Network/Cloud/Application)...</td>\n",
       "      <td>[Responsibilities About TikTokTikTok is the le...</td>\n",
       "      <td>Not Applicable</td>\n",
       "      <td>Full-time</td>\n",
       "    </tr>\n",
       "    <tr>\n",
       "      <th>3</th>\n",
       "      <td>https://www.linkedin.com/jobs/view/sql-develop...</td>\n",
       "      <td>SQL Developer</td>\n",
       "      <td>[SQL Developer - Long Beach, CA - Infosys  Nee...</td>\n",
       "      <td>Entry level</td>\n",
       "      <td>Contract</td>\n",
       "    </tr>\n",
       "    <tr>\n",
       "      <th>4</th>\n",
       "      <td>https://ca.linkedin.com/jobs/view/cyber-securi...</td>\n",
       "      <td>Cyber Security Specialist</td>\n",
       "      <td>[As one of Canada’s largest and fastest growin...</td>\n",
       "      <td>Not Applicable</td>\n",
       "      <td>Full-time</td>\n",
       "    </tr>\n",
       "    <tr>\n",
       "      <th>...</th>\n",
       "      <td>...</td>\n",
       "      <td>...</td>\n",
       "      <td>...</td>\n",
       "      <td>...</td>\n",
       "      <td>...</td>\n",
       "    </tr>\n",
       "    <tr>\n",
       "      <th>2241</th>\n",
       "      <td>https://www.linkedin.com/jobs/view/sql-server-...</td>\n",
       "      <td>SQL Server Developer</td>\n",
       "      <td>[Job Description Job Title: SQL Server Develop...</td>\n",
       "      <td>Entry level</td>\n",
       "      <td>Contract</td>\n",
       "    </tr>\n",
       "    <tr>\n",
       "      <th>2242</th>\n",
       "      <td>https://www.linkedin.com/jobs/view/embedded-so...</td>\n",
       "      <td>Embedded Software Engineer</td>\n",
       "      <td>[Summary Apple's embedded firmware/software te...</td>\n",
       "      <td>Not Applicable</td>\n",
       "      <td>Full-time</td>\n",
       "    </tr>\n",
       "    <tr>\n",
       "      <th>2243</th>\n",
       "      <td>https://uk.linkedin.com/jobs/view/cloud-engine...</td>\n",
       "      <td>Cloud Engineer</td>\n",
       "      <td>[Great opportunity for a Cloud Engineer to joi...</td>\n",
       "      <td>Mid-Senior level</td>\n",
       "      <td>Full-time</td>\n",
       "    </tr>\n",
       "    <tr>\n",
       "      <th>2244</th>\n",
       "      <td>https://www.linkedin.com/jobs/view/cloud-engin...</td>\n",
       "      <td>Cloud Engineer</td>\n",
       "      <td>[Job DescriptionCloud EngineerSan Jose, CAW2 C...</td>\n",
       "      <td>Entry level</td>\n",
       "      <td>Contract</td>\n",
       "    </tr>\n",
       "    <tr>\n",
       "      <th>2245</th>\n",
       "      <td>https://www.linkedin.com/jobs/view/patent-pros...</td>\n",
       "      <td>Patent Prosecution Agent</td>\n",
       "      <td>[Practice Area: Patent Agents - Computer Scien...</td>\n",
       "      <td>Entry level</td>\n",
       "      <td>Full-time</td>\n",
       "    </tr>\n",
       "  </tbody>\n",
       "</table>\n",
       "<p>2246 rows × 5 columns</p>\n",
       "</div>"
      ],
      "text/plain": [
       "                                                    url  \\\n",
       "0     https://www.linkedin.com/jobs/view/database-de...   \n",
       "1     https://www.linkedin.com/jobs/view/software-en...   \n",
       "2     https://www.linkedin.com/jobs/view/penetration...   \n",
       "3     https://www.linkedin.com/jobs/view/sql-develop...   \n",
       "4     https://ca.linkedin.com/jobs/view/cyber-securi...   \n",
       "...                                                 ...   \n",
       "2241  https://www.linkedin.com/jobs/view/sql-server-...   \n",
       "2242  https://www.linkedin.com/jobs/view/embedded-so...   \n",
       "2243  https://uk.linkedin.com/jobs/view/cloud-engine...   \n",
       "2244  https://www.linkedin.com/jobs/view/cloud-engin...   \n",
       "2245  https://www.linkedin.com/jobs/view/patent-pros...   \n",
       "\n",
       "                                                  title  \\\n",
       "0                                    Database Developer   \n",
       "1         Software Engineer I (Full Time) United States   \n",
       "2     Penetration Tester (Network/Cloud/Application)...   \n",
       "3                                         SQL Developer   \n",
       "4                             Cyber Security Specialist   \n",
       "...                                                 ...   \n",
       "2241                               SQL Server Developer   \n",
       "2242                         Embedded Software Engineer   \n",
       "2243                                     Cloud Engineer   \n",
       "2244                                     Cloud Engineer   \n",
       "2245                           Patent Prosecution Agent   \n",
       "\n",
       "                                        job_description   seniority_level  \\\n",
       "0     [SummaryThe Database Developer is part of the ...       Entry level   \n",
       "1     [What You’ll DoOur software engineers are the ...    Not Applicable   \n",
       "2     [Responsibilities About TikTokTikTok is the le...    Not Applicable   \n",
       "3     [SQL Developer - Long Beach, CA - Infosys  Nee...       Entry level   \n",
       "4     [As one of Canada’s largest and fastest growin...    Not Applicable   \n",
       "...                                                 ...               ...   \n",
       "2241  [Job Description Job Title: SQL Server Develop...       Entry level   \n",
       "2242  [Summary Apple's embedded firmware/software te...    Not Applicable   \n",
       "2243  [Great opportunity for a Cloud Engineer to joi...  Mid-Senior level   \n",
       "2244  [Job DescriptionCloud EngineerSan Jose, CAW2 C...       Entry level   \n",
       "2245  [Practice Area: Patent Agents - Computer Scien...       Entry level   \n",
       "\n",
       "     employment_type  \n",
       "0          Full-time  \n",
       "1          Full-time  \n",
       "2          Full-time  \n",
       "3           Contract  \n",
       "4          Full-time  \n",
       "...              ...  \n",
       "2241        Contract  \n",
       "2242       Full-time  \n",
       "2243       Full-time  \n",
       "2244        Contract  \n",
       "2245       Full-time  \n",
       "\n",
       "[2246 rows x 5 columns]"
      ]
     },
     "execution_count": 31,
     "metadata": {},
     "output_type": "execute_result"
    }
   ],
   "source": [
    "df"
   ]
  },
  {
   "cell_type": "code",
   "execution_count": null,
   "id": "e766f246-a1c7-4eb1-b1e2-d1528cd56e39",
   "metadata": {},
   "outputs": [],
   "source": []
  }
 ],
 "metadata": {
  "kernelspec": {
   "display_name": "Python 3 (ipykernel)",
   "language": "python",
   "name": "python3"
  },
  "language_info": {
   "codemirror_mode": {
    "name": "ipython",
    "version": 3
   },
   "file_extension": ".py",
   "mimetype": "text/x-python",
   "name": "python",
   "nbconvert_exporter": "python",
   "pygments_lexer": "ipython3",
   "version": "3.10.4"
  }
 },
 "nbformat": 4,
 "nbformat_minor": 5
}
