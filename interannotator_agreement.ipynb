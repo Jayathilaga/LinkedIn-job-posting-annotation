{
 "cells": [
  {
   "cell_type": "code",
   "execution_count": 268,
   "id": "46029fa0-a699-4a7d-9eec-8cde7b472435",
   "metadata": {},
   "outputs": [],
   "source": [
    "#loading packages\n",
    "import nltk\n",
    "from nltk.metrics.agreement import AnnotationTask\n",
    "from nltk.probability import ConditionalFreqDist, FreqDist\n",
    "import pandas as pd\n",
    "import os\n",
    "import numpy as np"
   ]
  },
  {
   "cell_type": "code",
   "execution_count": 265,
   "id": "eb10fe0d-bbf8-48e7-8c4d-17a9b80724cb",
   "metadata": {},
   "outputs": [
    {
     "name": "stderr",
     "output_type": "stream",
     "text": [
      "C:\\Users\\Nandakumar\\AppData\\Local\\Temp\\ipykernel_18440\\241254884.py:13: DtypeWarning: Columns (1,2,3,4,5,6,7,8) have mixed types. Specify dtype option on import or set low_memory=False.\n",
      "  jaya_review=pd.read_csv(path+'\\\\data\\\\jaya_reviewed.csv',encoding=\"ISO-8859-1\")\n"
     ]
    }
   ],
   "source": [
    "#loading data\n",
    "path='C:\\\\Users\\\\Nandakumar\\\\Documents\\\\mds\\\\block 5\\\\lab1\\\\LinkedIn_Posting_Markup'\n",
    "jaskirat_annotated=pd.read_csv(path+'\\\\data\\\\jaskirat_annotated.csv',encoding=\"ISO-8859-1\")\n",
    "jaskirat_annotated=jaskirat_annotated.dropna(how='all')\n",
    "jaskirat_review=pd.read_csv(path+'\\\\data\\\\jaskirat_reviewed.csv',encoding=\"ISO-8859-1\")\n",
    "jaskirat_review=jaskirat_review.dropna(how='all')\n",
    "sai_annotated=pd.read_csv(path+'\\\\data\\\\Sai_Annotated.csv',encoding=\"ISO-8859-1\")\n",
    "sai_annotated=sai_annotated.dropna(how='all')\n",
    "sai_review=pd.read_csv(path+'\\\\data\\\\Sai_Reviewed.csv',encoding=\"ISO-8859-1\")\n",
    "sai_review=sai_review.dropna(how='all')\n",
    "jaya_annotated=pd.read_csv(path+'\\\\data\\\\Jaya_annotation.csv',encoding=\"ISO-8859-1\")\n",
    "jaya_annotated=jaya_annotated.dropna(how='all')\n",
    "jaya_review=pd.read_csv(path+'\\\\data\\\\jaya_reviewed.csv',encoding=\"ISO-8859-1\")\n",
    "jaya_review=jaya_review.dropna(how='all')\n",
    "hari_annotated=pd.read_csv(path+'\\\\data\\\\hari_annotated.csv',encoding=\"ISO-8859-1\")\n",
    "hari_annotated=hari_annotated.dropna(how='all')\n",
    "hari_review=pd.read_csv(path+'\\\\data\\\\hari_reviewed.csv',encoding=\"ISO-8859-1\")\n",
    "hari_review=hari_review.dropna(how='all')"
   ]
  },
  {
   "cell_type": "code",
   "execution_count": 237,
   "id": "e44da944-ecba-4015-bef3-1b89b0643b08",
   "metadata": {},
   "outputs": [],
   "source": [
    "#cleaning data sets to bring it to same shape\n",
    "sai_annotated.columns = ['Unnamed: 0', 'url', 'title', 'job_description', 'seniority_level',\n",
    "       'employment_type', 'skills', 'class_name', 'experience']\n",
    "sai_review.drop(columns=['class_name'],inplace=True)\n",
    "sai_review.columns=['url', 'title', 'job_description', 'seniority_level', 'employment_type',\n",
    "       'job_id', 'skills', 'class_name', 'experience']\n",
    "jaya_review.columns=['Column1', 'url', 'title', 'job_description', 'seniority_level',\n",
    "       'employment_type', 'skills', 'experience', 'class_name']\n",
    "hari_annotated.columns=['Unnamed: 0', 'url', 'title', 'job_description', 'seniority_level',\n",
    "       'employment_type', 'skills', 'class_name', 'experience']"
   ]
  },
  {
   "cell_type": "code",
   "execution_count": 238,
   "id": "79b8b19a-14de-49dc-83c3-f8335864c2c4",
   "metadata": {},
   "outputs": [
    {
     "name": "stdout",
     "output_type": "stream",
     "text": [
      "Total Job description annotated by Jaskirat: (70, 9)\n",
      "Total Job description annotated by Jaskirat: (72, 9)\n",
      "Total Job description annotated by sai: (72, 9)\n",
      "Total Job description annotated by sai: (70, 9)\n",
      "Total Job description annotated by Jaya: (70, 9)\n",
      "Total Job description annotated by Jaya: (66, 9)\n",
      "Total Job description annotated by Hari: (66, 9)\n",
      "Total Job description annotated by Hari: (70, 9)\n"
     ]
    }
   ],
   "source": [
    "#shape of files that were annotated\n",
    "print('Total Job description annotated by Jaskirat:',jaskirat_annotated.shape)\n",
    "print('Total Job description annotated by Jaskirat:',jaskirat_review.shape)\n",
    "print('Total Job description annotated by sai:',sai_annotated.shape)\n",
    "print('Total Job description annotated by sai:',sai_review.shape)\n",
    "print('Total Job description annotated by Jaya:',jaya_annotated.shape)\n",
    "print('Total Job description annotated by Jaya:',jaya_review.shape)\n",
    "print('Total Job description annotated by Hari:',hari_annotated.shape)\n",
    "print('Total Job description annotated by Hari:',hari_review.shape)"
   ]
  },
  {
   "cell_type": "code",
   "execution_count": 258,
   "id": "77fb7d21-3b00-4358-a581-44b8d252b66f",
   "metadata": {},
   "outputs": [
    {
     "name": "stdout",
     "output_type": "stream",
     "text": [
      "Final Annotation document : (278, 6)\n",
      "Final Secondary Annotation document : (278, 6)\n"
     ]
    }
   ],
   "source": [
    "#creating comparison document\n",
    "final_annotated_data=pd.concat([jaskirat_annotated[['url','title','job_description','skills','experience','class_name']]\n",
    "           ,sai_annotated[['url','title','job_description','skills','experience','class_name']]\n",
    "           ,jaya_annotated[['url','title','job_description','skills','experience','class_name']]\n",
    "          ,hari_annotated[['url','title','job_description','skills','experience','class_name']]],axis=0)\n",
    "print('Final Annotation document :',final_annotated_data.shape)\n",
    "final_secondary_annotation_data=pd.concat([sai_review[['url','title','job_description','skills','experience','class_name']]\n",
    "           ,jaskirat_review[['url','title','job_description','skills','experience','class_name']]\n",
    "           ,hari_review[['url','title','job_description','skills','experience','class_name']]\n",
    "          ,jaya_review[['url','title','job_description','skills','experience','class_name']]],axis=0)\n",
    "print('Final Secondary Annotation document :',final_secondary_annotation_data.shape)"
   ]
  },
  {
   "cell_type": "code",
   "execution_count": 259,
   "id": "963b1d65-0d10-4eb4-812d-220e51017170",
   "metadata": {},
   "outputs": [],
   "source": [
    "#Data preprocessing\n",
    "def cleaning_data(data_frame):\n",
    "    data_frame['skills']=data_frame.skills.str.lower()\n",
    "    data_frame['skills']=data_frame.skills.str.strip()\n",
    "    # data_frame['skills']=data_frame.skills.str.replace(' ', '_')\n",
    "    data_frame['experience']=data_frame.experience.str.lower()\n",
    "    data_frame['experience']=data_frame.experience.str.strip()\n",
    "    data_frame['experience']=data_frame.experience.str.replace(' ', '_')\n",
    "    data_frame['class_name']=data_frame.class_name.str.lower()\n",
    "    data_frame['class_name']=data_frame.class_name.str.strip()\n",
    "    data_frame['class_name']=data_frame.class_name.str.replace(' ', '_')\n",
    "    return data_frame\n",
    "final_annotated_data = cleaning_data(final_annotated_data)\n",
    "final_secondary_annotation_data = cleaning_data(final_secondary_annotation_data)"
   ]
  },
  {
   "cell_type": "code",
   "execution_count": 266,
   "id": "0d669f87-9627-436e-b4c1-1ea6c230b06a",
   "metadata": {},
   "outputs": [],
   "source": [
    "#annotation task scores\n",
    "s_score = []\n",
    "pi_score = []\n",
    "k_score = []\n",
    "alpha_score = []\n",
    "for i in range(final_annotated_data.shape[0]):\n",
    "    check = []\n",
    "    check.append(('annotator_1','experience',final_annotated_data.iloc[i,4]))\n",
    "    check.append(('annotator_2','experience',final_secondary_annotation_data.iloc[i,4]))\n",
    "    check.append(('annotator_1','class_name',final_annotated_data.iloc[i,5]))\n",
    "    check.append(('annotator_2','class_name',final_secondary_annotation_data.iloc[i,5]))\n",
    "    try:\n",
    "        for skill in final_annotated_data.iloc[i,3].split(\",\"):\n",
    "            skill = skill.strip()\n",
    "            skill = skill.replace(' ', '_')\n",
    "            check.append(('annotator_1','skill',skill))\n",
    "        for skill in final_secondary_annotation_data.iloc[i,3].split(\",\"):\n",
    "            skill = skill.strip()\n",
    "            skill = skill.replace(' ', '_')\n",
    "            check.append(('annotator_2','skill',skill))\n",
    "        score = AnnotationTask(check) \n",
    "        s_score.append(score.S())\n",
    "        pi_score.append(score.pi())\n",
    "    except:\n",
    "        pass\n",
    "    k_score.append(score.kappa())\n",
    "    alpha_score.append(score.alpha())"
   ]
  },
  {
   "cell_type": "code",
   "execution_count": 269,
   "id": "644368e6-3550-4ba7-9d2c-d3f16acbe94b",
   "metadata": {},
   "outputs": [
    {
     "name": "stdout",
     "output_type": "stream",
     "text": [
      "S score:  0.6856323802832042\n",
      "Pi score:  0.7078020445822651\n",
      "Kappa score:  0.5714285714285714\n",
      "Alpha score:  0.20427287589125628\n"
     ]
    }
   ],
   "source": [
    "#Inter-agreement annotation scores\n",
    "print(\"S score: \", np.mean(s_score))\n",
    "print(\"Pi score: \",np.mean(pi_score))\n",
    "print(\"Kappa score: \",np.median(k_score))\n",
    "print(\"Alpha score: \",np.mean(alpha_score))"
   ]
  }
 ],
 "metadata": {
  "kernelspec": {
   "display_name": "Python 3 (ipykernel)",
   "language": "python",
   "name": "python3"
  },
  "language_info": {
   "codemirror_mode": {
    "name": "ipython",
    "version": 3
   },
   "file_extension": ".py",
   "mimetype": "text/x-python",
   "name": "python",
   "nbconvert_exporter": "python",
   "pygments_lexer": "ipython3",
   "version": "3.9.12"
  }
 },
 "nbformat": 4,
 "nbformat_minor": 5
}
