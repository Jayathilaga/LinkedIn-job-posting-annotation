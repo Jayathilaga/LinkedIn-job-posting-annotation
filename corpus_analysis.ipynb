{
 "cells": [
  {
   "cell_type": "code",
   "execution_count": 2,
   "id": "ed9c7353-f99b-410a-b6dc-747891de13ed",
   "metadata": {},
   "outputs": [],
   "source": [
    "import numpy as np\n",
    "from zipfile import ZipFile\n",
    "from collections import Counter\n",
    "from nltk.tokenize import word_tokenize\n",
    "from nltk.corpus import stopwords\n",
    "import matplotlib.pyplot as plt\n",
    "import pandas as pd\n",
    "stopwords_set = stopwords.words(\"English\")"
   ]
  },
  {
   "cell_type": "code",
   "execution_count": 3,
   "id": "1af222ef-9f82-43ac-b0fb-0b27fe37e439",
   "metadata": {},
   "outputs": [
    {
     "data": {
      "text/plain": [
       "2246"
      ]
     },
     "execution_count": 3,
     "metadata": {},
     "output_type": "execute_result"
    }
   ],
   "source": [
    "corpus = pd.read_csv(\"D:/block5/LinkedIn_Posting_Markup/data/linkedin_data.csv\")\n",
    "len(corpus)"
   ]
  },
  {
   "cell_type": "code",
   "execution_count": 4,
   "id": "7292b2fe-f10d-452f-a1fa-779a2bdffb77",
   "metadata": {},
   "outputs": [
    {
     "data": {
      "text/html": [
       "<div>\n",
       "<style scoped>\n",
       "    .dataframe tbody tr th:only-of-type {\n",
       "        vertical-align: middle;\n",
       "    }\n",
       "\n",
       "    .dataframe tbody tr th {\n",
       "        vertical-align: top;\n",
       "    }\n",
       "\n",
       "    .dataframe thead th {\n",
       "        text-align: right;\n",
       "    }\n",
       "</style>\n",
       "<table border=\"1\" class=\"dataframe\">\n",
       "  <thead>\n",
       "    <tr style=\"text-align: right;\">\n",
       "      <th></th>\n",
       "      <th>Unnamed: 0</th>\n",
       "      <th>url</th>\n",
       "      <th>title</th>\n",
       "      <th>job_description</th>\n",
       "      <th>seniority_level</th>\n",
       "      <th>employment_type</th>\n",
       "    </tr>\n",
       "  </thead>\n",
       "  <tbody>\n",
       "    <tr>\n",
       "      <th>0</th>\n",
       "      <td>0</td>\n",
       "      <td>https://www.linkedin.com/jobs/view/database-de...</td>\n",
       "      <td>Database Developer</td>\n",
       "      <td>['SummaryThe Database Developer is part of the...</td>\n",
       "      <td>Entry level</td>\n",
       "      <td>Full-time</td>\n",
       "    </tr>\n",
       "    <tr>\n",
       "      <th>1</th>\n",
       "      <td>1</td>\n",
       "      <td>https://www.linkedin.com/jobs/view/software-en...</td>\n",
       "      <td>Software Engineer I (Full Time) United States</td>\n",
       "      <td>['What You’ll DoOur software engineers are the...</td>\n",
       "      <td>Not Applicable</td>\n",
       "      <td>Full-time</td>\n",
       "    </tr>\n",
       "    <tr>\n",
       "      <th>2</th>\n",
       "      <td>2</td>\n",
       "      <td>https://www.linkedin.com/jobs/view/penetration...</td>\n",
       "      <td>Penetration Tester (Network/Cloud/Application)...</td>\n",
       "      <td>['Responsibilities About TikTokTikTok is the l...</td>\n",
       "      <td>Not Applicable</td>\n",
       "      <td>Full-time</td>\n",
       "    </tr>\n",
       "    <tr>\n",
       "      <th>3</th>\n",
       "      <td>3</td>\n",
       "      <td>https://www.linkedin.com/jobs/view/sql-develop...</td>\n",
       "      <td>SQL Developer</td>\n",
       "      <td>['SQL Developer - Long Beach, CA - Infosys  Ne...</td>\n",
       "      <td>Entry level</td>\n",
       "      <td>Contract</td>\n",
       "    </tr>\n",
       "    <tr>\n",
       "      <th>4</th>\n",
       "      <td>4</td>\n",
       "      <td>https://ca.linkedin.com/jobs/view/cyber-securi...</td>\n",
       "      <td>Cyber Security Specialist</td>\n",
       "      <td>['As one of Canada’s largest and fastest growi...</td>\n",
       "      <td>Not Applicable</td>\n",
       "      <td>Full-time</td>\n",
       "    </tr>\n",
       "  </tbody>\n",
       "</table>\n",
       "</div>"
      ],
      "text/plain": [
       "   Unnamed: 0                                                url  \\\n",
       "0           0  https://www.linkedin.com/jobs/view/database-de...   \n",
       "1           1  https://www.linkedin.com/jobs/view/software-en...   \n",
       "2           2  https://www.linkedin.com/jobs/view/penetration...   \n",
       "3           3  https://www.linkedin.com/jobs/view/sql-develop...   \n",
       "4           4  https://ca.linkedin.com/jobs/view/cyber-securi...   \n",
       "\n",
       "                                               title  \\\n",
       "0                                 Database Developer   \n",
       "1      Software Engineer I (Full Time) United States   \n",
       "2  Penetration Tester (Network/Cloud/Application)...   \n",
       "3                                      SQL Developer   \n",
       "4                          Cyber Security Specialist   \n",
       "\n",
       "                                     job_description seniority_level  \\\n",
       "0  ['SummaryThe Database Developer is part of the...     Entry level   \n",
       "1  ['What You’ll DoOur software engineers are the...  Not Applicable   \n",
       "2  ['Responsibilities About TikTokTikTok is the l...  Not Applicable   \n",
       "3  ['SQL Developer - Long Beach, CA - Infosys  Ne...     Entry level   \n",
       "4  ['As one of Canada’s largest and fastest growi...  Not Applicable   \n",
       "\n",
       "  employment_type  \n",
       "0       Full-time  \n",
       "1       Full-time  \n",
       "2       Full-time  \n",
       "3        Contract  \n",
       "4       Full-time  "
      ]
     },
     "execution_count": 4,
     "metadata": {},
     "output_type": "execute_result"
    }
   ],
   "source": [
    "corpus.head()"
   ]
  },
  {
   "cell_type": "code",
   "execution_count": 5,
   "id": "b9108631-e9ba-4909-880e-b0d50b9512b9",
   "metadata": {},
   "outputs": [
    {
     "data": {
      "text/plain": [
       "956313"
      ]
     },
     "execution_count": 5,
     "metadata": {},
     "output_type": "execute_result"
    }
   ],
   "source": [
    "words = [word.lower() for text in corpus['job_description'] for word in word_tokenize(text.split('[')[1][:-3]) if word.isalpha()]\n",
    "len(words)"
   ]
  },
  {
   "cell_type": "code",
   "execution_count": 6,
   "id": "aedc932c-9131-448f-b280-6f38b522208e",
   "metadata": {},
   "outputs": [
    {
     "data": {
      "text/plain": [
       "28740"
      ]
     },
     "execution_count": 6,
     "metadata": {},
     "output_type": "execute_result"
    }
   ],
   "source": [
    "types = set(words)\n",
    "len(types)"
   ]
  },
  {
   "cell_type": "code",
   "execution_count": 7,
   "id": "0b86968f-80b4-4a23-a650-d6e514c62c86",
   "metadata": {},
   "outputs": [
    {
     "data": {
      "text/plain": [
       "[('and', 56519),\n",
       " ('to', 32166),\n",
       " ('the', 25910),\n",
       " ('of', 22814),\n",
       " ('a', 18864),\n",
       " ('in', 17704),\n",
       " ('with', 15764),\n",
       " ('for', 12099),\n",
       " ('is', 8798),\n",
       " ('or', 8336),\n",
       " ('you', 7674),\n",
       " ('our', 7662),\n",
       " ('data', 7160),\n",
       " ('experience', 6584),\n",
       " ('on', 6372),\n",
       " ('are', 6220),\n",
       " ('as', 6102),\n",
       " ('will', 5571),\n",
       " ('we', 5460),\n",
       " ('that', 5441),\n",
       " ('be', 5346),\n",
       " ('work', 5014),\n",
       " ('team', 4987),\n",
       " ('an', 4886),\n",
       " ('your', 3378)]"
      ]
     },
     "execution_count": 7,
     "metadata": {},
     "output_type": "execute_result"
    }
   ],
   "source": [
    "counts = Counter(words)\n",
    "counts.most_common(25)"
   ]
  },
  {
   "cell_type": "code",
   "execution_count": 8,
   "id": "a243c0d3-3b29-4c83-8668-55ede3aec9ab",
   "metadata": {},
   "outputs": [
    {
     "data": {
      "text/plain": [
       "[('data', 7160),\n",
       " ('experience', 6584),\n",
       " ('work', 5014),\n",
       " ('team', 4987),\n",
       " ('software', 3323),\n",
       " ('security', 3276),\n",
       " ('development', 3125),\n",
       " ('skills', 2825),\n",
       " ('working', 2690),\n",
       " ('learning', 2558),\n",
       " ('business', 2543),\n",
       " ('new', 2284),\n",
       " ('including', 2244),\n",
       " ('role', 2169),\n",
       " ('engineering', 2163),\n",
       " ('years', 2061),\n",
       " ('company', 2057),\n",
       " ('knowledge', 1981),\n",
       " ('design', 1967),\n",
       " ('science', 1943),\n",
       " ('systems', 1876),\n",
       " ('technical', 1841),\n",
       " ('opportunity', 1824),\n",
       " ('support', 1796),\n",
       " ('cloud', 1781)]"
      ]
     },
     "execution_count": 8,
     "metadata": {},
     "output_type": "execute_result"
    }
   ],
   "source": [
    "counts = Counter([word for word in words if word not in stopwords_set])\n",
    "counts.most_common(25)"
   ]
  },
  {
   "cell_type": "code",
   "execution_count": 9,
   "id": "a8c2cf98-a826-40a0-b1a2-635064a45483",
   "metadata": {},
   "outputs": [],
   "source": [
    "corpora = [\"treebank\", \"gutenberg\", \"reuters\", \"switchboard\",\"webtext\", \"movie_reviews\"]\n",
    "exec(\"from nltk.corpus import \" + \", \".join(corpora))\n",
    "\n",
    "def ordered_bar_from_dict(py_dict, title):\n",
    "    '''create a bar chart from values in py_dict, ordered from smallest to largest and labeled with keys'''\n",
    "    labels = sorted(py_dict.keys(),key=lambda x: py_dict[x])\n",
    "    y_pos = np.arange(len(labels))\n",
    "    values = sorted(py_dict.values())\n",
    "\n",
    "    plt.bar(y_pos, values, align='center', alpha=0.5,color=list('rgbkym'))\n",
    "    plt.xticks(y_pos, labels,rotation=45)\n",
    "    plt.title(title)\n",
    "    plt.show()\n",
    "\n",
    "def type_token_ratio(words, num_words):\n",
    "    '''calculate type-token ratio from the corpus of word tokens (list of strings) using the first\n",
    "    num_words tokens'''\n",
    "    type_set = set(word.lower() for word in words[:num_words])\n",
    "    return len(type_set) / num_words    \n",
    "\n",
    "def average_word_length(words):\n",
    "    '''calculate the average length of the provided words'''\n",
    "    total_words = 0\n",
    "    total_chars = 0\n",
    "    for word in words:\n",
    "        total_words += 1\n",
    "        total_chars += len(word)\n",
    "    return total_chars/total_words\n",
    "\n",
    "def get_unigram_probs(words):\n",
    "    '''get unigram probabilities for the words in a corpus'''\n",
    "    counts = Counter(word.lower() for word in words)\n",
    "    total = sum(counts.values())\n",
    "    return {word:count/total for word,count in counts.items()}\n",
    "    \n",
    "def divide_probs(prob1, prob2):\n",
    "    '''given two probability dictionaries, create a dictionary has the ratios of probabilities (prob1/prob2)\n",
    "    for each word included in both'''\n",
    "    all_words = set(prob1.keys()).intersection(prob2.keys())\n",
    "    return {word:prob1.get(word,0)/prob2.get(word,0) for word in all_words}"
   ]
  },
  {
   "cell_type": "code",
   "execution_count": 11,
   "id": "b37f184e-b3ac-411e-b50d-af563a96a681",
   "metadata": {},
   "outputs": [
    {
     "data": {
      "image/png": "[encoded data removed]",
      "text/plain": [
       "<Figure size 640x480 with 1 Axes>"
      ]
     },
     "metadata": {},
     "output_type": "display_data"
    }
   ],
   "source": [
    "avg_word_lengths = {}\n",
    "avg_word_lengths[\"LinkedIn\"] = average_word_length(words)\n",
    "for corpus in corpora:\n",
    "    exec(\"words = \" +corpus + \".words()\")\n",
    "    avg_word_lengths[corpus] = average_word_length(words)\n",
    "ordered_bar_from_dict(avg_word_lengths,\"Average word lengths\")"
   ]
  },
  {
   "cell_type": "code",
   "execution_count": 12,
   "id": "0b96db90-fdfa-48b6-a404-0c88d02fcd2b",
   "metadata": {},
   "outputs": [
    {
     "data": {
      "text/plain": [
       "5.731176926382889"
      ]
     },
     "execution_count": 12,
     "metadata": {},
     "output_type": "execute_result"
    }
   ],
   "source": [
    "avg_word_lengths[\"LinkedIn\"]"
   ]
  },
  {
   "cell_type": "code",
   "execution_count": 14,
   "id": "eb9ef838-198d-44ea-ad5d-567de983c80a",
   "metadata": {},
   "outputs": [
    {
     "data": {
      "image/png": "[encoded data removed]",
      "text/plain": [
       "<Figure size 640x480 with 1 Axes>"
      ]
     },
     "metadata": {},
     "output_type": "display_data"
    }
   ],
   "source": [
    "ttrs = {}\n",
    "ttrs[\"LinkedIn\"] = type_token_ratio(words, 10000)\n",
    "for corpus in corpora:\n",
    "    exec(\"words = \" +corpus + \".words()\")\n",
    "    ttrs[corpus] = type_token_ratio(words,10000)\n",
    "ordered_bar_from_dict(ttrs,\"Type token ratios\")"
   ]
  },
  {
   "cell_type": "code",
   "execution_count": 15,
   "id": "8b3ee4d1-4bb5-4c7f-955b-bc90083e89a9",
   "metadata": {},
   "outputs": [
    {
     "data": {
      "text/plain": [
       "0.2554"
      ]
     },
     "execution_count": 15,
     "metadata": {},
     "output_type": "execute_result"
    }
   ],
   "source": [
    "ttrs[\"LinkedIn\"]"
   ]
  },
  {
   "cell_type": "code",
   "execution_count": 16,
   "id": "62ce0866-f672-482e-9d7e-adaa4a687655",
   "metadata": {},
   "outputs": [
    {
     "name": "stdout",
     "output_type": "stream",
     "text": [
      "['film', 'series', 'moments', 'scenes', 'comic', 'actors', 'kevin', 'director', 'roles', 'jackie', 'actor', 'lee', 'scream', 'oscar', 'fans', 'eventually', 'released', 'sequel', 'hilarious', 'ben', 'effective', 'alien', 'decides', 'jim', 'starring', 'sam', 'likely', 'scott', 'effects', 'merely', 'carter', 'played', 'horror', 'allen', 'fi', 'cinematography', 'brief', 'atmosphere', 'subtle', 'supporting', 'humor', 'amusing', 'grace', 'meanwhile', 'audience', 'sean', 'casting', 'trailer', 'detective', 'delivers']\n"
     ]
    }
   ],
   "source": [
    "webtext_probs = get_unigram_probs(webtext.words())\n",
    "LinkedIn_probs = get_unigram_probs(words)\n",
    "\n",
    "div_dict = divide_probs(webtext_probs, LinkedIn_probs)\n",
    "div_sorted_words = sorted(div_dict.keys(), key=lambda x: div_dict[x])\n",
    "\n",
    "print(div_sorted_words[:50])"
   ]
  },
  {
   "cell_type": "code",
   "execution_count": 17,
   "id": "d9ad637f-1674-472d-8f97-06219568d2a1",
   "metadata": {},
   "outputs": [
    {
     "name": "stdout",
     "output_type": "stream",
     "text": [
      "['-', 'plot', 'film', 'don', 'movies', 'character', 'characters', 'audience', 'movie', 'acting', 'guy', 'actor', 'films', 'watching', 'moments', 'looks', 'scenes', \"'\", 'unfortunately', 'star', 'plays', 'boy', 'tell', 'finds', 'camera', 'directed', 'video', 'entertaining', 'dark', 'story', 'self', 'exactly', 'wife', 'obvious', '!', 'bit', 'guys', 'played', 'scream', 'dialogue', 'happens', 'cast', 'yes', 'god', 'manages', 'whole', 'music', 'emotional', 'sex', 'feature']\n"
     ]
    }
   ],
   "source": [
    "treebank_probs = get_unigram_probs(treebank.words())\n",
    "LinkedIn_probs = get_unigram_probs(words)\n",
    "\n",
    "div_dict = divide_probs(treebank_probs, LinkedIn_probs)\n",
    "div_sorted_words = sorted(div_dict.keys(), key=lambda x: div_dict[x])\n",
    "\n",
    "print(div_sorted_words[:50])"
   ]
  }
 ],
 "metadata": {
  "kernelspec": {
   "display_name": "Python 3 (ipykernel)",
   "language": "python",
   "name": "python3"
  },
  "language_info": {
   "codemirror_mode": {
    "name": "ipython",
    "version": 3
   },
   "file_extension": ".py",
   "mimetype": "text/x-python",
   "name": "python",
   "nbconvert_exporter": "python",
   "pygments_lexer": "ipython3",
   "version": "3.9.12"
  }
 },
 "nbformat": 4,
 "nbformat_minor": 5
}
